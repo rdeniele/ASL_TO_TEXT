{
 "cells": [
  {
   "cell_type": "code",
   "execution_count": 69,
   "metadata": {},
   "outputs": [],
   "source": [
    "import mediapipe as mp\n",
    "import cv2\n",
    "import os\n",
    "import numpy as np"
   ]
  },
  {
   "cell_type": "code",
   "execution_count": 70,
   "metadata": {},
   "outputs": [
    {
     "name": "stdout",
     "output_type": "stream",
     "text": [
      "Started capturing...\n",
      "500 Images saved to: C:/Users/ronde/PROJECTS/ASL_TO_TEXT/data/images\\Please\n"
     ]
    }
   ],
   "source": [
    "# Path save\n",
    "SAVE_PATH = r\"C:/Users/ronde/PROJECTS/ASL_TO_TEXT/data/images\"\n",
    "IMG_SIZE = 227  # Make sure this matches your model's input size\n",
    "\n",
    "mp_hands = mp.solutions.hands\n",
    "hands = mp_hands.Hands(\n",
    "    max_num_hands=1,\n",
    "    min_detection_confidence=0.5,\n",
    "    min_tracking_confidence=0.5\n",
    ")\n",
    "\n",
    "def normalize_landmarks(landmarks):\n",
    "    x_coords = [lm[0] for lm in landmarks]\n",
    "    y_coords = [lm[1] for lm in landmarks]\n",
    "    \n",
    "    min_x, max_x = min(x_coords), max(x_coords)\n",
    "    min_y, max_y = min(y_coords), max(y_coords)\n",
    "    \n",
    "    normalized_landmarks = [\n",
    "        [(x - min_x) / (max_x - min_x), (y - min_y) / (max_y - min_y), z]\n",
    "        for x, y, z in landmarks\n",
    "    ]\n",
    "    return normalized_landmarks\n",
    "\n",
    "def preprocess_landmarks(landmarks, img_size=IMG_SIZE):\n",
    "    normalized_landmarks = normalize_landmarks(landmarks)\n",
    "    \n",
    "    landmarks_image = np.zeros((img_size, img_size, 3), dtype=np.uint8)\n",
    "    for lm in normalized_landmarks:\n",
    "        x, y = int(lm[0] * (img_size - 1)), int(lm[1] * (img_size - 1))\n",
    "        cv2.circle(landmarks_image, (x, y), 10, (255, 0, 0), 3)\n",
    "    \n",
    "    return landmarks_image\n",
    "\n",
    "letter_or_word = input(\"Enter the letter or word to train: \").strip()\n",
    "output_folder = os.path.join(SAVE_PATH, letter_or_word)\n",
    "os.makedirs(output_folder, exist_ok=True)\n",
    "\n",
    "cam = cv2.VideoCapture(0)\n",
    "if not cam.isOpened():\n",
    "    print(\"Error: Camera not accessible.\")\n",
    "    exit()\n",
    "\n",
    "frame_count = 0\n",
    "capturing = False\n",
    "\n",
    "while True:\n",
    "    ret, frame = cam.read()\n",
    "    if not ret:\n",
    "        print(\"Failed to grab frame.\")\n",
    "        break\n",
    "    frame = cv2.flip(frame, 1)\n",
    "    frame_rgb = cv2.cvtColor(frame, cv2.COLOR_BGR2RGB)\n",
    "    results = hands.process(frame_rgb)\n",
    "\n",
    "    if results.multi_hand_landmarks:\n",
    "        for hand_landmarks in results.multi_hand_landmarks:\n",
    "            landmarks = [(landmark.x, landmark.y, landmark.z) for landmark in hand_landmarks.landmark]\n",
    "            preprocessed_image = preprocess_landmarks(landmarks)\n",
    "            \n",
    "            cv2.imshow('Preprocessed Hand', preprocessed_image)\n",
    "            \n",
    "            if capturing:\n",
    "                # Capture 500 images in a burst\n",
    "                for _ in range(500): \n",
    "                    img_name = os.path.join(output_folder, f\"{letter_or_word}_{frame_count}.jpg\")\n",
    "                    cv2.imwrite(img_name, preprocessed_image)\n",
    "                    frame_count += 1\n",
    "                print(f\"500 Images saved to: {output_folder}\")\n",
    "                capturing = False # Stop capturing after the burst\n",
    "\n",
    "    cv2.imshow('Hand Tracking', frame)\n",
    "    key = cv2.waitKey(1) & 0xFF\n",
    "\n",
    "    if key == ord('c'):\n",
    "        capturing = True\n",
    "        print(\"Started capturing...\")\n",
    "\n",
    "    elif key == ord('q'):\n",
    "        break\n",
    "\n",
    "cam.release()\n",
    "cv2.destroyAllWindows()"
   ]
  }
 ],
 "metadata": {
  "kernelspec": {
   "display_name": "venv",
   "language": "python",
   "name": "python3"
  },
  "language_info": {
   "codemirror_mode": {
    "name": "ipython",
    "version": 3
   },
   "file_extension": ".py",
   "mimetype": "text/x-python",
   "name": "python",
   "nbconvert_exporter": "python",
   "pygments_lexer": "ipython3",
   "version": "3.10.0"
  }
 },
 "nbformat": 4,
 "nbformat_minor": 2
}
